version https://git-lfs.github.com/spec/v1
oid sha256:8674cc028ab6c9a9773a1fb8cbe1a5a15a56fba8672a5c2ffc62160a36b5aa08
size 269369
