version https://git-lfs.github.com/spec/v1
oid sha256:f984cd5f53b08968d924d7ee98a6be11a9567da977719a1344980a8953a64d1f
size 550239
