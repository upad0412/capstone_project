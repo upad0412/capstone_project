version https://git-lfs.github.com/spec/v1
oid sha256:17d5c23f1f17e1e226940bcde26573e91783c624edab597c6b49c27de5d89816
size 298453
