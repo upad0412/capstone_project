version https://git-lfs.github.com/spec/v1
oid sha256:0bf68baadf545795815f9b91ec9eb7f88b878835de3eea0f47eb0b436c388d2f
size 183150
