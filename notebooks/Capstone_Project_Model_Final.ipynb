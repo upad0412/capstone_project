version https://git-lfs.github.com/spec/v1
oid sha256:06ece51d81ac8a787f0fb3aff531fcc56f4c0a43d49b8b99d7d86446e38a1dc2
size 94094
