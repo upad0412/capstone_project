version https://git-lfs.github.com/spec/v1
oid sha256:39a116eff76663d9a76730187f833f33d9643d42d741d1e2e03d4b0d325b7b33
size 167950
